{
 "cells": [
  {
   "cell_type": "markdown",
   "id": "e4085be1",
   "metadata": {},
   "source": [
    "# Function"
   ]
  },
  {
   "cell_type": "code",
   "execution_count": 15,
   "id": "91a133b0",
   "metadata": {},
   "outputs": [],
   "source": [
    "def review_res_trip(name):\n",
    "    import sys\n",
    "    import csv\n",
    "    from selenium import webdriver\n",
    "    from webdriver_manager.chrome import ChromeDriverManager\n",
    "    import time\n",
    "    from selenium.common.exceptions import NoSuchElementException\n",
    "\n",
    "    # number of scraped pages\n",
    "    num_page = 100000\n",
    "\n",
    "    #name = \"th.tripadvisor.com/Restaurant_Review-g293919-d12643544-Reviews-Turkuaz_Turkish_Cafe_Restaurant_Pattaya-Pattaya_Chonburi_Province.html\"\n",
    "    # tripadvisor website of hotel or things to do (attraction/monument) \n",
    "    url = \"https://\" + str(name)\n",
    "\n",
    "    # if you pass the inputs in the command line\n",
    "    if (len(sys.argv) == 4):\n",
    "        path_to_file = sys.argv[1]\n",
    "        num_page = int(sys.argv[2])\n",
    "        url = sys.argv[3]\n",
    "\n",
    "    # import the webdriver\n",
    "    driver = webdriver.Chrome(executable_path=ChromeDriverManager().install())\n",
    "    driver.get(url)\n",
    "\n",
    "    try:\n",
    "        driver.find_element_by_class_name('evidon-banner-acceptbutton').click()\n",
    "    except:\n",
    "        pass \n",
    "\n",
    "    geolocation = \"\"\n",
    "\n",
    "    title_text = str(driver.title)\n",
    "    title_text_strip = title_text.replace(\" - Menu, Prices &amp; Restaurant Reviews - Tripadvisor\",\"\")\n",
    "    \n",
    "    print(title_text_strip)\n",
    "\n",
    "    container = driver.find_elements_by_xpath(\".//div[@class='review-container']\")\n",
    "    print(len(container))\n",
    "\n",
    "    time.sleep(5)\n",
    "    try:\n",
    "        images = driver.find_elements_by_xpath(\".//img[contains(@class,'mapImg')]\")\n",
    "        for image in images:\n",
    "            geolocation = image.get_attribute('src')\n",
    "    except:\n",
    "        pass\n",
    "\n",
    "    print(geolocation)\n",
    "\n",
    "    #path_to_file =  \"C:/Users/attawut/Documents/Web_scraping_NLP/0_Tripadvisor_Webscraping/1_output_review_res_ENG/mining_\" + title_text_strip + \".csv\"\n",
    "    path_to_file =  \"0_Tripadvisor_Webscraping/1_output_review_res_ENG/mining_\" + title_text_strip + \"1.csv\"\n",
    "    \n",
    "    # open the file to save the review\n",
    "    csvFile = open(path_to_file, 'a', encoding=\"utf-8-sig\")\n",
    "    csvWriter = csv.writer(csvFile)\n",
    "\n",
    "    # change the value inside the range to save more or less reviews\n",
    "    for i in range(0, num_page):\n",
    "\n",
    "        # expand the review \n",
    "        time.sleep(2)\n",
    "        #driver.find_element_by_xpath(\"//span[@class='taLnk ulBlueLinks']\").click()\n",
    "        try:\n",
    "            driver.find_element_by_class_name('taLnk.ulBlueLinks').click()\n",
    "        except:\n",
    "            pass\n",
    "\n",
    "        container = driver.find_elements_by_xpath(\".//div[@class='review-container']\")\n",
    "        print(len(container))\n",
    "\n",
    "        for j in range(len(container)):\n",
    "\n",
    "            title = container[j].find_element_by_xpath(\".//span[@class='noQuotes']\").text\n",
    "            date = container[j].find_element_by_xpath(\".//span[contains(@class, 'ratingDate')]\").get_attribute(\"title\")\n",
    "            rating = container[j].find_element_by_xpath(\".//span[contains(@class, 'ui_bubble_rating bubble_')]\").get_attribute(\"class\").split(\"_\")[3]\n",
    "            review = container[j].find_element_by_xpath(\".//p[@class='partial_entry']\").text.replace(\"\\n\", \" \")\n",
    "            print(title,date,rating,review,title_text_strip,geolocation)\n",
    "            csvWriter.writerow([date, rating, title, review, title_text_strip, geolocation]) \n",
    "        try:\n",
    "            # change the page\n",
    "            driver.find_element_by_xpath('.//a[@class=\"nav next ui_button primary\"]').click()\n",
    "        except:\n",
    "            break\n",
    "\n",
    "    driver.close()"
   ]
  },
  {
   "cell_type": "code",
   "execution_count": 16,
   "id": "661f4c20",
   "metadata": {},
   "outputs": [
    {
     "name": "stderr",
     "output_type": "stream",
     "text": [
      "\n",
      "\n",
      "====== WebDriver manager ======\n",
      "Current google-chrome version is 103.0.5060\n",
      "Get LATEST driver version for 103.0.5060\n",
      "Driver [C:\\Users\\attawut\\.wdm\\drivers\\chromedriver\\win32\\103.0.5060.53\\chromedriver.exe] found in cache\n"
     ]
    },
    {
     "name": "stdout",
     "output_type": "stream",
     "text": [
      "FAT BELLY PATTAYA - Menu, Prices & Restaurant Reviews - Tripadvisor\n",
      "\n"
     ]
    }
   ],
   "source": [
    "#review_trip(\"tripadvisor.com/Restaurant_Review-g293919-d12283373-Reviews-Longhorn_Steakhouse_Grill-Pattaya_Chonburi_Province.html\")\n",
    "review_trip(\"tripadvisor.com/Restaurant_Review-g293919-d12895399-Reviews-Fat_Belly_Pattaya-Pattaya_Chonburi_Province.html\")\n"
   ]
  },
  {
   "cell_type": "markdown",
   "id": "22ac779e",
   "metadata": {},
   "source": [
    "# Set Variable"
   ]
  },
  {
   "cell_type": "code",
   "execution_count": null,
   "id": "b6d8794a",
   "metadata": {},
   "outputs": [],
   "source": [
    "hotel_name_list = [\n",
    "\"tripadvisor.com/Hotel_Review-g293916-d11888125-Reviews-Hoppers_Place_Donmuang_Hostel-Bangkok.html\",\n",
    "\"tripadvisor.com/Hotel_Review-g293916-d10682876-Reviews-Hide_Bangkok_Hostel-Bangkok.html\",\n",
    "]\n",
    "\n",
    "len(hotel_name_list)"
   ]
  },
  {
   "cell_type": "markdown",
   "id": "c7a5f683",
   "metadata": {},
   "source": [
    "# Run Function"
   ]
  },
  {
   "cell_type": "code",
   "execution_count": null,
   "id": "0d0d203d",
   "metadata": {},
   "outputs": [],
   "source": [
    "for index, elem in enumerate(hotel_name_list):\n",
    "    print(index, elem)\n",
    "    review_trip(elem)\n",
    "    print(\"Finish\",elem)"
   ]
  },
  {
   "cell_type": "code",
   "execution_count": null,
   "id": "cb190a92",
   "metadata": {},
   "outputs": [],
   "source": []
  }
 ],
 "metadata": {
  "kernelspec": {
   "display_name": "Python 3.7.13 ('base')",
   "language": "python",
   "name": "python3"
  },
  "language_info": {
   "codemirror_mode": {
    "name": "ipython",
    "version": 3
   },
   "file_extension": ".py",
   "mimetype": "text/x-python",
   "name": "python",
   "nbconvert_exporter": "python",
   "pygments_lexer": "ipython3",
   "version": "3.7.13"
  },
  "vscode": {
   "interpreter": {
    "hash": "eb4f3c2745d5e24f01fa2041e6a45ad2b07924bca0b56c56c7d2e71a35823404"
   }
  }
 },
 "nbformat": 4,
 "nbformat_minor": 5
}
