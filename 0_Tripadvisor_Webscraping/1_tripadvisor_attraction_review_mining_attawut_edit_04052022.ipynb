{
 "cells": [
  {
   "cell_type": "markdown",
   "id": "e4085be1",
   "metadata": {},
   "source": [
    "# Function"
   ]
  },
  {
   "cell_type": "code",
   "execution_count": null,
   "id": "fdff11d0",
   "metadata": {},
   "outputs": [],
   "source": [
    "def review_trip_attraction(name):\n",
    "    import sys\n",
    "    import csv\n",
    "    from selenium import webdriver\n",
    "    from webdriver_manager.chrome import ChromeDriverManager\n",
    "    import time\n",
    "    from selenium.common.exceptions import NoSuchElementException\n",
    "\n",
    "    # number of scraped pages\n",
    "    num_page = 100000\n",
    "\n",
    "    # tripadvisor website of hotel or things to do (attraction/monument) \n",
    "    url = \"https://\" + str(name)\n",
    "\n",
    "    # if you pass the inputs in the command line\n",
    "    if (len(sys.argv) == 4):\n",
    "        path_to_file = sys.argv[1]\n",
    "        num_page = int(sys.argv[2])\n",
    "        url = sys.argv[3]\n",
    "        \n",
    "    # import the webdriver\n",
    "    driver = webdriver.Chrome(executable_path=ChromeDriverManager().install())\n",
    "    driver.get(url)\n",
    "\n",
    "    try:\n",
    "        driver.find_element_by_class_name('evidon-banner-acceptbutton').click() #เช็คปิด banner cookies\n",
    "    except:\n",
    "        pass \n",
    "\n",
    "    geolocation = \"\"\n",
    "\n",
    "    title_text = str(driver.title)\n",
    "    title_text_strip = title_text.replace(\" - All You Need to Know BEFORE You Go\",\"\")\n",
    "    print(title_text_strip)\n",
    "\n",
    "    time.sleep(5)\n",
    "    try:\n",
    "        images = driver.find_elements_by_xpath(\".//img[contains(@class,'GCceD')]\") #เช็คดึง Geolocation\n",
    "        for image in images:\n",
    "            geolocation = image.get_attribute('src')\n",
    "    except:\n",
    "        pass   \n",
    "\n",
    "    print(geolocation)\n",
    "    \n",
    "    path_to_file =  \"1_output_review/mining_\" + title_text_strip + \".csv\"\n",
    "    # open the file to save the review\n",
    "    csvFile = open(path_to_file, 'a', encoding=\"utf-8-sig\")\n",
    "    csvWriter = csv.writer(csvFile)\n",
    "\n",
    "    \n",
    "    container = driver.find_elements_by_xpath(\".//div[@class='ffbzW _c']\")\n",
    "    print(len(container))\n",
    "        \n",
    "    # change the value inside the range to save more or less reviews\n",
    "    for i in range(0, num_page):\n",
    "\n",
    "        # expand the review \n",
    "        time.sleep(2)\n",
    "        #driver.find_element_by_xpath(\"//span[@class='taLnk ulBlueLinks']\").click()\n",
    "        try:\n",
    "            driver.find_element_by_class_name('taLnk.ulBlueLinks').click()\n",
    "        except:\n",
    "            pass\n",
    "\n",
    "        container = driver.find_elements_by_xpath(\".//div[@class='ffbzW _c']\")\n",
    "        print(len(container))\n",
    "\n",
    "        for j in range(len(container)):\n",
    "\n",
    "            title = container[j].find_element_by_xpath(\".//span[@class='NejBf']\").text\n",
    "                \n",
    "            try:\n",
    "                date = container[j].find_element_by_xpath(\".//div[@class = 'eRduX']\").text\n",
    "            except:\n",
    "                date = \"None\"\n",
    "\n",
    "            review = container[j].find_element_by_xpath(\".//div[@class='WlYyy diXIH dDKKM']\").text\n",
    "                \n",
    "            print(title,date,review)\n",
    "            csvWriter.writerow([title,date,review,title_text_strip,geolocation]) \n",
    "        try:\n",
    "            # change the page\n",
    "            driver.find_element_by_xpath('.//a[@aria-label=\"Next page\"]').click()\n",
    "        except:\n",
    "            break\n",
    "        \n",
    "    driver.quit()"
   ]
  },
  {
   "cell_type": "markdown",
   "id": "e112a596",
   "metadata": {},
   "source": [
    "# Test Function"
   ]
  },
  {
   "cell_type": "code",
   "execution_count": null,
   "id": "2c33b43d",
   "metadata": {},
   "outputs": [],
   "source": [
    "review_trip_attraction(\"tripadvisor.com/Attraction_Review-g293916-d317504-Reviews-Temple_Of_Dawn_Wat_Arun-Bangkok.html\")"
   ]
  },
  {
   "cell_type": "markdown",
   "id": "22ac779e",
   "metadata": {},
   "source": [
    "# Set Variable"
   ]
  },
  {
   "cell_type": "code",
   "execution_count": null,
   "id": "b6d8794a",
   "metadata": {},
   "outputs": [],
   "source": [
    "attraction_name_list = [\n",
    "\"tripadvisor.com/Attraction_Review-g293916-d317504-Reviews-Temple_Of_Dawn_Wat_Arun-Bangkok.html\",\n",
    "\"tripadvisor.com/Attraction_Review-g293916-d450971-Reviews-Chatuchak_Weekend_Market-Bangkok.html\",\n",
    "\"tripadvisor.com/Attraction_Review-g293916-d311044-Reviews-Temple_of_the_Emerald_Buddha_Wat_Phra_Kaew-Bangkok.html\"\n",
    "]\n",
    "len(hotel_name_list)"
   ]
  },
  {
   "cell_type": "markdown",
   "id": "c7a5f683",
   "metadata": {},
   "source": [
    "# Run Function"
   ]
  },
  {
   "cell_type": "code",
   "execution_count": null,
   "id": "0d0d203d",
   "metadata": {},
   "outputs": [],
   "source": [
    "for index, elem in enumerate(attraction_name_list):\n",
    "    print(index, elem)\n",
    "    review_trip_attraction(elem)\n",
    "    print(\"Finish\",elem)"
   ]
  },
  {
   "cell_type": "code",
   "execution_count": null,
   "id": "cb190a92",
   "metadata": {},
   "outputs": [],
   "source": []
  }
 ],
 "metadata": {
  "kernelspec": {
   "display_name": "Python 3 (ipykernel)",
   "language": "python",
   "name": "python3"
  },
  "language_info": {
   "codemirror_mode": {
    "name": "ipython",
    "version": 3
   },
   "file_extension": ".py",
   "mimetype": "text/x-python",
   "name": "python",
   "nbconvert_exporter": "python",
   "pygments_lexer": "ipython3",
   "version": "3.8.13"
  }
 },
 "nbformat": 4,
 "nbformat_minor": 5
}
