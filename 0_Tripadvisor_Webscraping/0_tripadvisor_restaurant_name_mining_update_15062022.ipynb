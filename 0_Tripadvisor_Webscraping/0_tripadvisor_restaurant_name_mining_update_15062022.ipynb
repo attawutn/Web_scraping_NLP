{
 "cells": [
  {
   "cell_type": "code",
   "execution_count": null,
   "id": "7ed8a5c6",
   "metadata": {},
   "outputs": [],
   "source": [
    "def web_link_scrap(name,name_1,province):\n",
    "    import requests\n",
    "    from bs4 import BeautifulSoup as soup \n",
    "    import pandas as pd\n",
    "    province = str(province)\n",
    "    html = requests.get(str(name), headers={\"User-Agent\": \"Mozilla/5.0 (X11; CrOS x86_64 12871.102.0) AppleWebKit/537.36 (KHTML, like Gecko) Chrome/81.0.4044.141 Safari/537.36\"})\n",
    "    bsobj = soup(html.content,'lxml')\n",
    "    links = []\n",
    "    try:\n",
    "        #for review in bsobj.findAll('a',{'class':'iPqaD _F G- hsDFd eKwUx btBEK fUpii'}):\n",
    "        for review in bsobj.findAll('a',{'class':'bHGqj Cj b'}):\n",
    "            a = review['href']\n",
    "            a = 'tripadvisor.com'+ a\n",
    "            a = a[:(a.find('Reviews')+100)] + '-or{}' + a[(a.find('Reviews')+100):]\n",
    "            print(a)\n",
    "            links.append(a)\n",
    "    except Exception:\n",
    "        print(\"Finish\")\n",
    "        pass\n",
    "    \n",
    "    df = pd.DataFrame(links)\n",
    "    df.to_csv('0mining_' + str(name_1)+ '_' + province+'_restaurant_tripadvisor.csv',encoding='utf-8-sig')"
   ]
  },
  {
   "cell_type": "code",
   "execution_count": null,
   "id": "e6bda8cc",
   "metadata": {},
   "outputs": [],
   "source": [
    "name = 'Rayong'\n",
    "web_link_scrap('https://www.tripadvisor.com/Restaurants-g297935-Rayong_Rayong_Province.html','1',name)\n",
    "web_link_scrap('https://www.tripadvisor.com/Restaurants-g297935-oa30-Rayong_Rayong_Province.html','2',name)\n",
    "web_link_scrap('https://www.tripadvisor.com/Restaurants-g297935-oa60-Rayong_Rayong_Province.html','3',name)\n",
    "web_link_scrap('https://www.tripadvisor.com/Restaurants-g297935-oa90-Rayong_Rayong_Province.html','4',name)\n",
    "web_link_scrap('https://www.tripadvisor.com/Restaurants-g297935-oa120-Rayong_Rayong_Province.html','5',name)\n"
   ]
  },
  {
   "cell_type": "code",
   "execution_count": null,
   "id": "8daf6719",
   "metadata": {},
   "outputs": [],
   "source": []
  }
 ],
 "metadata": {
  "interpreter": {
   "hash": "d9363941a9cdc3aa2d7ffc1156066cfb66bb7ce2e517290366e4d795ef4b8ad1"
  },
  "kernelspec": {
   "display_name": "Python 3 (ipykernel)",
   "language": "python",
   "name": "python3"
  },
  "language_info": {
   "codemirror_mode": {
    "name": "ipython",
    "version": 3
   },
   "file_extension": ".py",
   "mimetype": "text/x-python",
   "name": "python",
   "nbconvert_exporter": "python",
   "pygments_lexer": "ipython3",
   "version": "3.9.12"
  }
 },
 "nbformat": 4,
 "nbformat_minor": 5
}
