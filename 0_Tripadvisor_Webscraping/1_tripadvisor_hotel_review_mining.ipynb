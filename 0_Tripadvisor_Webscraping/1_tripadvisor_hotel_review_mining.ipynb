{
 "cells": [
  {
   "cell_type": "markdown",
   "id": "e4085be1",
   "metadata": {},
   "source": [
    "# Function"
   ]
  },
  {
   "cell_type": "code",
   "execution_count": 1,
   "id": "fdff11d0",
   "metadata": {},
   "outputs": [],
   "source": [
    "def review_trip(name):\n",
    "    import sys\n",
    "    import csv\n",
    "    from selenium import webdriver\n",
    "    from webdriver_manager.chrome import ChromeDriverManager\n",
    "    import time\n",
    "    from selenium.common.exceptions import NoSuchElementException\n",
    "\n",
    "    # number of scraped pages\n",
    "    num_page = 100000\n",
    "\n",
    "    # tripadvisor website of hotel or things to do (attraction/monument) \n",
    "    url = \"https://\" + str(name)\n",
    "\n",
    "    # if you pass the inputs in the command line\n",
    "    if (len(sys.argv) == 4):\n",
    "        path_to_file = sys.argv[1]\n",
    "        num_page = int(sys.argv[2])\n",
    "        url = sys.argv[3]\n",
    "    \n",
    "    # import the webdriver\n",
    "    driver = webdriver.Chrome(executable_path=ChromeDriverManager().install())\n",
    "    driver.get(url)\n",
    "\n",
    "    try:\n",
    "        driver.find_element_by_class_name('evidon-banner-acceptbutton').click()\n",
    "    except:\n",
    "        pass \n",
    "\n",
    "    geolocation = \"\"\n",
    "\n",
    "    title_text = str(driver.title)\n",
    "    title_text_strip = title_text.replace(\" - Prices & Reviews (Thailand) - Tripadvisor\",\"\")\n",
    "    print(title_text_strip)\n",
    "\n",
    "    time.sleep(5)\n",
    "    try:\n",
    "        images = driver.find_elements_by_xpath(\".//img[contains(@class,'ChASv')]\")\n",
    "        for image in images:\n",
    "            geolocation = image.get_attribute('src')\n",
    "    except:\n",
    "        pass   \n",
    "\n",
    "    print(geolocation)\n",
    "    \n",
    "    path_to_file =  \"1_output_review/mining_\" + title_text_strip + \".csv\"\n",
    "    # open the file to save the review\n",
    "    csvFile = open(path_to_file, 'a', encoding=\"utf-8-sig\")\n",
    "    csvWriter = csv.writer(csvFile)\n",
    "\n",
    "    \n",
    "    for i in range(0, num_page):\n",
    "\n",
    "        # expand the review \n",
    "        time.sleep(5)\n",
    "        try:\n",
    "            driver.find_element_by_xpath(\".//div[contains(@data-test-target, 'expand-review')]\").click()\n",
    "            time.sleep(5)\n",
    "\n",
    "            container = driver.find_elements_by_xpath(\"//div[@data-reviewid]\")\n",
    "            print(len(container))\n",
    "            dates = driver.find_elements_by_xpath(\".//div[@class='bcaHz']\")\n",
    "            print(len(dates))\n",
    "\n",
    "            for j in range(len(container)):\n",
    "                time.sleep(5)\n",
    "                rating = container[j].find_element_by_xpath(\".//span[contains(@class, 'ui_bubble_rating bubble_')]\").get_attribute(\"class\").split(\"_\")[3]\n",
    "                title = container[j].find_element_by_xpath(\".//div[contains(@data-test-target, 'review-title')]\").text\n",
    "                review = container[j].find_element_by_xpath(\".//q[@class='XllAv H4 _a']\").text.replace(\"\\n\", \"  \")\n",
    "                date = dates[j].text\n",
    "                print(rating,title,review,date)\n",
    "\n",
    "                csvWriter.writerow([date, rating, title, review, title_text_strip, geolocation]) \n",
    "\n",
    "            try:\n",
    "                driver.find_element_by_xpath('.//a[@class=\"ui_button nav next primary \"]').click()\n",
    "            except:\n",
    "                break\n",
    "            time.sleep(5)\n",
    "        except:\n",
    "            break\n",
    "    \n",
    "    for i in range(0, num_page):\n",
    "\n",
    "        # expand the review \n",
    "        time.sleep(5)\n",
    "        try:\n",
    "            driver.find_element_by_xpath(\".//div[contains(@data-test-target, 'expand-review')]\").click()\n",
    "            time.sleep(5)\n",
    "\n",
    "            container = driver.find_elements_by_xpath(\"//div[@data-reviewid]\")\n",
    "            print(len(container))\n",
    "            dates = driver.find_elements_by_xpath(\".//div[@class='bcaHz']\")\n",
    "            print(len(dates))\n",
    "\n",
    "            for j in range(len(container)):\n",
    "                time.sleep(5)\n",
    "                rating = container[j].find_element_by_xpath(\".//span[contains(@class, 'ui_bubble_rating bubble_')]\").get_attribute(\"class\").split(\"_\")[3]\n",
    "                title = container[j].find_element_by_xpath(\".//div[contains(@data-test-target, 'review-title')]\").text\n",
    "                review = container[j].find_element_by_xpath(\".//q[@class='XllAv H4 _a']\").text.replace(\"\\n\", \"  \")\n",
    "                date = dates[j].text\n",
    "                print(rating,title,review,date)\n",
    "\n",
    "                csvWriter.writerow([date, rating, title, review, title_text_strip, geolocation]) \n",
    "\n",
    "            try:\n",
    "                driver.find_element_by_xpath('.//a[@class=\"ui_button nav next primary \"]').click()\n",
    "            except:\n",
    "                break\n",
    "            time.sleep(5)\n",
    "        except:\n",
    "            break\n",
    "        \n",
    "    driver.quit()"
   ]
  },
  {
   "cell_type": "code",
   "execution_count": null,
   "id": "661f4c20",
   "metadata": {},
   "outputs": [],
   "source": [
    "#review_trip(\"tripadvisor.com/Hotel_Review-g293916-d11888125-Reviews-Hoppers_Place_Donmuang_Hostel-Bangkok.html\")\n",
    "review_trip(\"tripadvisor.com/Hotel_Review-g293916-d10682876-Reviews-Hide_Bangkok_Hostel-Bangkok.html\")"
   ]
  },
  {
   "cell_type": "markdown",
   "id": "22ac779e",
   "metadata": {},
   "source": [
    "# Set Variable"
   ]
  },
  {
   "cell_type": "code",
   "execution_count": 2,
   "id": "b6d8794a",
   "metadata": {},
   "outputs": [
    {
     "data": {
      "text/plain": [
       "2"
      ]
     },
     "execution_count": 2,
     "metadata": {},
     "output_type": "execute_result"
    }
   ],
   "source": [
    "hotel_name_list = [\n",
    "\"tripadvisor.com/Hotel_Review-g293916-d11888125-Reviews-Hoppers_Place_Donmuang_Hostel-Bangkok.html\",\n",
    "\"tripadvisor.com/Hotel_Review-g293916-d10682876-Reviews-Hide_Bangkok_Hostel-Bangkok.html\",\n",
    "]\n",
    "\n",
    "len(hotel_name_list)"
   ]
  },
  {
   "cell_type": "markdown",
   "id": "c7a5f683",
   "metadata": {},
   "source": [
    "# Run Function"
   ]
  },
  {
   "cell_type": "code",
   "execution_count": 3,
   "id": "0d0d203d",
   "metadata": {},
   "outputs": [
    {
     "name": "stdout",
     "output_type": "stream",
     "text": [
      "0 tripadvisor.com/Hotel_Review-g293916-d11888125-Reviews-Hoppers_Place_Donmuang_Hostel-Bangkok.html\n"
     ]
    },
    {
     "name": "stderr",
     "output_type": "stream",
     "text": [
      "\n",
      "\n",
      "====== WebDriver manager ======\n",
      "Current google-chrome version is 100.0.4896\n",
      "Get LATEST driver version for 100.0.4896\n",
      "Get LATEST driver version for 100.0.4896\n",
      "Trying to download new driver from https://chromedriver.storage.googleapis.com/100.0.4896.60/chromedriver_win32.zip\n",
      "Driver has been saved in cache [C:\\Users\\attawut\\.wdm\\drivers\\chromedriver\\win32\\100.0.4896.60]\n"
     ]
    },
    {
     "name": "stdout",
     "output_type": "stream",
     "text": [
      "HOPPERS PLACE DONMUANG HOSTEL $16 ($̶2̶2̶) - Prices & Lodge Reviews - Bangkok, Thailand - Tripadvisor\n",
      "https://maps.google.com/maps/api/staticmap?&channel=ta.desktop.hotel_review&zoom=13&size=846x241&scale=1&client=gme-tripadvisorinc&format=jpg&sensor=false&language=en_US&center=13.915066,100.585876&maptype=roadmap&&markers=icon:http%3A%2F%2Fc1.tacdn.com%2F%2Fimg2%2Fmaps%2Ficons%2Fresponsive_map_pins_v2%2FH_Anchor_pin.png|13.915066,100.585876|13.915066,100.585876&&markers=icon:http%3A%2F%2Fc1.tacdn.com%2F%2Fimg2%2Fmaps%2Ficons%2Fcomponent_map_pins_v1%2FR_Pin_xs.png|13.908302,100.578300|13.921525,100.585388|13.920180,100.593430|13.918608,100.578445|13.913690,100.588791|13.913260,100.582520|13.914580,100.587173|13.913280,100.589951|13.919930,100.584991&&markers=icon:http%3A%2F%2Fc1.tacdn.com%2F%2Fimg2%2Fmaps%2Ficons%2Fcomponent_map_pins_v1%2FH_Pin_xs.png|13.912915,100.593147|13.916922,100.583923|13.911144,100.591629|13.912020,100.596069|13.911118,100.589676|13.912020,100.596069|13.914085,100.587784|13.911259,100.592789&signature=pp3J_dW9ofmRZD_b5a-pbOvWDkA=\n",
      "10\n",
      "10\n",
      "50 Great 1 night stay We stayed here for a 1 night as an airport stay over and it was a great nights stay. The room was big, shower nice and warm, the WiFi and aircon was good. There is also coffee/biscuits available all day and the airport shuttle is included. I slept so well and the lady on reception was really nice. Lucy P wrote a review Dec 2019\n",
      "50 Great for a one night airport stopover We bboked here as a one night stopover, for Bangkok airport, which is a 15 minute ride away, traffic was terrible. We had origionally booked a room, but it was up on a higher floor, so when checking in, the receptionist got me to cancel that one, and we got booked into one of the new rooms, behind the main hotel, on the ground floor, as we had 2 massive suitcases. The room only cost about £20 for the night, and a free taxi ride back to airport next day. Very clean room, looked very new, soft bed and pillows, great shower, toiletries, good WIFI, TV, hairdrier..  As its a hostel, there was a microwave, toast, in the hallway, so as we arrived late, I went to the local 7Eleven store, 5 mins away, bought toasties, crisps and beers for supper rather than going out.  Ok for a one night stay alisdair t wrote a review Sep 2019\n",
      "50 The best Transfer Hotel in DONMUANG It’s conveniently close by (6mins drive) to the airport. They even give you a free complimentary ride to the airport. Also give you free luggage storage for a couple days. Clean, and central. THE BEST Kola S wrote a review Apr 2019\n",
      "40 Very Helpful and Polite Staff with Comfortable Rooms We stayed here for two nights while visiting Bangkok. The hostel itself is small but the rooms are comfortable to fit three people and all our luggage. They offer breakfast every morning for an additional charge but we enjoyed the chicken and pork soup as well as the fried rice we ordered for our breakfast. The front desk staff were extremely helpful and polite. They helped teach us some Thai phrases and helped us get to the Chatuchak Weekend Market. They also helped orchestrate phone calls to get us to our next destination. I would recommend staying here if you have the chance! Liddy H wrote a review Apr 2019\n",
      "50 Solid choice near DMK Reasonably priced clean and mostly quiet accommodation. Our second time staying here. staff helped getting our heavy suitcase upstairs as there is no lift. Scheduled airport drop off is free of charge and takes the stress off getting to airport on time. Our go to place if landing at DMK from this point on. Note that there is cheap A/C bus to downtown or Suvarnabhumi Intl airport. Premium room is quieter than standard room but overall both were quite satisfactory especially for one or two nights. Accela1 wrote a review Mar 2019\n",
      "50 Stay here If you are looking for a transit hotel close to Don Mueang look no further. This hostel is the best. A small hidden gem. Close to 7/11 and Thai food stalls, restaurants, market and coffee around the corner. Good wifi. Airport is 15 minute drive. The staff is amazing, the breakfast good. We stayed for 3 nights in a private room. Theres only thing but for us that is no problem: there is No elevator. Yardena wrote a review Dec 2018\n",
      "40 Great place, but really bad smell in the bathroom Super friendly staff. Very clean and well appointed room. We stayed in deluxe room with it's own bathroom and it was very clean and modern. But we hated the bad smell coming from the bathroom, which was impossible to get rid off. The breakfast and shuttle service were very well organized and the food was very good. We ate dinner directly across the street and there is a convenience store very close by. Michaela V wrote a review Sep 2018\n",
      "50 Perfect. Clean! I would stay here again and recommend it for sure.    Awesome for quick flight layover!! Chose this place because the reviews were good and it’s location was close.  Our private queen bed was great. Quiet, 2nd floor, clean and stocked with 2 water bottles. Thank you. The bathroom was clean and new and it had a shower curtain, hurray!!!!! Didn’t have the breakfast the next morning but there’s a 7-11 directly across the street. Also there’s a local Thai restaurant across the street which is amazing!! Totally good food.    The taxi to the hostel was 110baht. The free shuttle ride to the airport the next day was awesome. They ask you at check in what time your flight is and what time you want to leave. Our shuttle driver was on his phone the whole time, but it was quick and it’s fine.    I would 100% stay here again and recommend this hostel to anyone. It’s better than a hotel honestly. Taylor🏝 wrote a review May 2018\n",
      "50 One night near Donmuang airport We arrived by late flight at night and have to kill some time to catch the another flight tomorrow. Its 10 mins taxi ride from the airport cost 100 baht and the hostel charge 650 baht for double room with attached bathroom. It is the hostel and it has per person rate also. The room is clean and the building is well organised. It also offer free drop off service to airport and that is a plus. 7/11 store is 3 mins walk in the street. Overall, it is the great place to sleep near Donmuang airport. Hein wrote a review Apr 2018\n",
      "50 would stay again it was a decent hostel. The room was clean and new. Air-con was good, water was hot, bed was fine. The location is good and transfer service was a plus. there were multiple restaurants around and 7-11 was in the distance. 24 hours surveillance. I would go there again. salasa f wrote a review Apr 2018\n",
      "10\n",
      "10\n",
      "40 One night stay transfer airport Nice hostel very clean good quality price will highly recommend it !! Modern touch as well. Access to computer reception very helpfull!! Only down side there driver who took us to airport was unfriendly and kept texting the all way to airport . No say hi but hopefully management will take action if they care about their client. JE_Travel_World wrote a review Feb 2018\n",
      "30 Good room for the price, but extremely noisy The hostel is conveniently located near the airport and the rooms are comfortable and very clean. However, the soundproofing is nonexistent. The street noise is absolutely horrible, and we were also lucky to have drunk and cheerful neighbours. No sleep whatsoever. There is also no lift, and the better rooms are located on the upper floor. Free shuttle taxi to the airport is a plus, so is the simple, but freshly prepared breakfast. Overall, I'd give it a miss next time. Ato-81 wrote a review Feb 2018\n",
      "40 Very close to local airport and surprisingly comfortable We reserved for one night to catch a flight to Phuket after 28 hours of transit from Canada. The bed is really comfortable and the sheets are nice and soft. The hotel and rooms are very clean and service is good. I would come again. Julie B wrote a review Jan 2018\n",
      "40 Good Place for short Stay near Airport Easy to find, Rooms of decent size, Good Wifi, Location is ok, Shops and simple Restaurants nearby. Not too far from Central Chaengwattana Shopping Mall. Staff friendly and helpful. Breakfast to order.Transport from Hotel to Airport very smooth.Can only recommend. Mroehr wrote a review Jan 2018\n"
     ]
    },
    {
     "name": "stdout",
     "output_type": "stream",
     "text": [
      "50 Wonderful place to stay I will give 5 starts to hoppers place donmuang hostel, its very neat, clean and very hygienic place .    I strongly recommend you to stay at hoppers place donmuang hostel in Bangkok.    I’ve travelled in November 2017 with advance booking through booking.com and they’ve charged me 390 baht for one night stay, no hidden charges at all. Gulam Mohammed S wrote a review Nov 2017\n",
      "50 Nice and clean We only stayed overnight as we had a flight to Yangon from Don Mueang Airport the next day. It’s a nice, clean hostel kept pristine by the staff. They have free wifi with good speed. Hot water for showers also available and you can even adjust the temperature to suit your taste. No breakfast typically included with your room but you can opt to purchase (70 baht only), just tell the staff. Free tea and coffee at the lobby. The place also offers dorm-type accomodation. Joe Y wrote a review Nov 2017\n",
      "50 The staffs are superbly awesome! I lowered down my expectation when I booked this room as it's just a basic hostel and I booked a dorm room. I went late check-in and they were OK with that. Superbly nice and I really love the girl with the purple hair at the front desk. She's very helpful and full of smile. One thing is, the hostel is really close to Don Mueang Airport. And because I'm having a super early flight to Bali, this place helped me a lot to arrive on time. Definitely worth to book! Reevo Saulus wrote a review Nov 2017\n",
      "50 Super for overnight near by Don Muang airport Very near by airport, perfect clean, good bed, aircon is ok and quiet, hot water is hot, we had room with bathroom, clean, complimentary toothbrush and toothpaste for one use, complimentary bottled water in room, free coffee, tea, water and small biscuits on reception, also microwave is available, free shuttle each hour to airport (approximately 10min), very friendly and helpful staff, strongly recommend!!! Many shops, restaurants and 7/11 just a few steps by hostel. If you arrive on Suvarnabhumi, take free shuttle bus to Don Muang (just show flight ticket and go free) and there go walking or take taxi for a few THB. Time between airports is 1 hour without traffic!!! MartinPrague67 wrote a review Sep 2017\n",
      "50 Friendly and accomodating Our flight got delayed and before we flew off, I sent them a text on FB to inform them. The staff welcomed us when we were there, even though it is past midnight. Space was big, shower was hot, aircon was working well. No complains for the price. Though there isn't any breakfast shop nearby, we ordered from the hotel. Price was 50-70 baht. stardeenaw wrote a review Sep 2017\n",
      "50 Awesome place and very friendly staff We stayed here for a night close to the airport. We had taken a private room. The staff were very friendly. We wanted to proceed to Khao yai and they took all the pain to find possible routes. If you want to catch a train to ayutthaya or north, this is place to stay since it is close to the station next to airport. breakfast was good. The room was also spacious enough for two. Loved the hospitality MasalaBoxTravel wrote a review Aug 2017\n",
      "8\n",
      "8\n",
      "40 Nice little hotel in don muang Stay here 1 night before heading to khao yao next day. Hostel environment cozy, room is clean, friendly and helpful staffs. It can't go wrong choosing this hostel for short stay in Don muang. Overall is good and value for money. Yoke Hein K wrote a review Aug 2017\n",
      "40 Good place for overnight stay don muang This was a very nice n cozy place near the airport. The food is good. You get free WiFi and amazing free coffee. Just Bunked up here for 1 night. Will surely recommend. The people are friendly. Cab drivers will try to cheat and ask money. It is complimentary. sbnandini23 wrote a review Apr 2017\n",
      "40 Great one before morning flight We stayed there for one night. Rooms and bathroom are clean and comfy, nice Staff and free transfer to Don Mueang airport (although 7am car depart 7:15, because driver put us to the car and disappear, which was quite annoying..). Anyway, good place to stay if you have a morning flight. KasicA a wrote a review Apr 2017\n",
      "50 Great location, amazing staff This is a perfect hotel close to Don Muang airport. They served a nice home cooked breakfast and had a shuttle to and from the airport. We were flying to Myanmar and were worried about our weight limit so they were kind enough to let us leave a bag and pick it up on our return. Nice room with a good AC. Bed was firm. Mommiex4plus1 wrote a review Apr 2017\n",
      "50 Hidden gem Was extremely happy with the place.. Less than 3 kms from the airport.. They provide free drop in the airport too.. Awesome unlimited complementary coffee tea and cookies..hospitable staff.. A lot of road side eateries and good spas nearby.. Impeccable room.. What else is needed.. This is even better than 5 star hotels Aravind B wrote a review Apr 2017\n",
      "50 Great stay A very useful place next to the Donmuang Airport if you need totransfer and get the flight the day after! The offer a pick up service transfer to the airport so you enjoy the breakfast and then they will bring you to get your flight. Rooms are clean and comfortable and the staff is very welcoming. Costantino P wrote a review Mar 2017\n",
      "50 Highly recommended before/after a Don Muang flight! My husband and I spent one night at this lace, before an early morning international flight.  The hotel is conveniently located near the Don Muang airport (as the name implies).    Arrived late at night and there was still someone to welcome us.  The place is decorated in local authentic style which is quite nice.    The room is very spacious and clean, air con worked great, so did the wifi in the room.  Shower had hot water, only downside was the drainage that wasnt great.    Breakfast included served 3 options, we chose the american one that did the work I assume.  Downstairs floor also offers hot water and coffee and tea for self use, along with some nice crackers and cookies.    In conclusion great place to spend the night near DM, great value for money. danamiro wrote a review Mar 2017\n",
      "50 Great stop after late flight Close to Don Muang airport. Clean rooms private bathroom (it also has dorms with shared bathrooms, these looked really clean also) the corridors for the dorms had signs on saying lights out and quiet after 10pm which I think is great as you may be catching an early flight. The bed was apparently rock hard, but I like this hard Thai bed!! So no complaints from me! Had some tea and coffee in the morning and some toast all complimentary!! Would stay here again! Steph E wrote a review Jan 2017\n"
     ]
    },
    {
     "name": "stderr",
     "output_type": "stream",
     "text": [
      "\n",
      "\n",
      "====== WebDriver manager ======\n",
      "Current google-chrome version is 100.0.4896\n",
      "Get LATEST driver version for 100.0.4896\n",
      "Driver [C:\\Users\\attawut\\.wdm\\drivers\\chromedriver\\win32\\100.0.4896.60\\chromedriver.exe] found in cache\n"
     ]
    },
    {
     "name": "stdout",
     "output_type": "stream",
     "text": [
      "Finish tripadvisor.com/Hotel_Review-g293916-d11888125-Reviews-Hoppers_Place_Donmuang_Hostel-Bangkok.html\n",
      "1 tripadvisor.com/Hotel_Review-g293916-d10682876-Reviews-Hide_Bangkok_Hostel-Bangkok.html\n",
      "HIDE BANGKOK HOSTEL\n",
      "https://maps.google.com/maps/api/staticmap?&channel=ta.desktop.hotel_review&zoom=15&size=846x241&scale=1&client=gme-tripadvisorinc&format=jpg&sensor=false&language=en_US&center=13.706567,100.596489&maptype=roadmap&&markers=icon:http%3A%2F%2Fc1.tacdn.com%2F%2Fimg2%2Fmaps%2Ficons%2Fresponsive_map_pins_v2%2FH_Anchor_pin.png|13.706567,100.596489|13.706567,100.596489&&markers=icon:http%3A%2F%2Fc1.tacdn.com%2F%2Fimg2%2Fmaps%2Ficons%2Fcomponent_map_pins_v1%2FA_Pin_xs.png|13.708204,100.592941|13.708850,100.599792|13.709190,100.599510&&markers=icon:http%3A%2F%2Fc1.tacdn.com%2F%2Fimg2%2Fmaps%2Ficons%2Fcomponent_map_pins_v1%2FR_Pin_xs.png|13.709173,100.598869|13.705160,100.597313|13.705739,100.598518|13.704391,100.595146|13.704080,100.594231|13.706393,100.599083|13.704645,100.595688|13.706650,100.600433|13.706153,100.599083&&markers=icon:http%3A%2F%2Fc1.tacdn.com%2F%2Fimg2%2Fmaps%2Ficons%2Fcomponent_map_pins_v1%2FH_Pin_xs.png|13.704144,100.599068|13.704707,100.595680|13.706836,100.599915|13.704777,100.599205|13.703602,100.594345|13.707205,100.600517|13.707050,100.593040|13.709438,100.598228&signature=yDw1sGyXgPQhu8CD2EmWePAjfbs=\n",
      "10\n",
      "10\n",
      "50 THIS IS A WONDERFUL HOSTEL IN BANGKOK THAT I RECOMMEND TO EVERYONE I really love this quite and friendly Hostel - it is a wonderful hidden Gem that is off the beaten path that makes you feel like you are staying in an authentic old Thai neighborhood away from the hustle and bustle. You are greeted by their welcoming staff with a refreshing glass of Butterfly Pea Tea - it is an ancient Thai Herbal plant that is extremely thirst quenching, relaxing and healthy. The rooms are spacious, clean and airy with lots of natural light. They have several different dorm and private rooms that offers a refreshing feel of privacy - having blackout curtains in every Pod. Hides bathrooms are spacious, clean and modern with consistent flow of hot water. What I like best is you can sleep-in without worrying about missing out on the substantial free breakfast they offer - as they do not clear it away until their guests have had time to enjoy it at their leisure. I enjoy cooking my own meals as I travel through Asia and they are very excepting to guests using the kitchen to prepare their dinner while having the opportunity of socializing with the interesting and friendly guests that stay @ Hide from all over the world. The prices at Hide are as competitive and lower than any of the other Hostels in Bangkok Thailand. I highly recommend the 5 Star Hide Hostel Bangkok to everyone and I am so happy that I have had the opportunity to experience this little piece of Paradice in Thailand.  Spacious rooms · Private bathrooms · Quiet rooms · Private rooms · Good for backpackers PHILIPPRINCETON wrote a review Jan 2020\n",
      "50 A hostel with a hint of home I arrived at the hostel and was greated with the staff and a welcome drink 🍸. The stay at the hostel was amazing. This is cleanest hostel I have been to very clean and tidy. The staff is very welcoming and happy. The other guests at the hostel where very happy, and welcoming. I made new contacts with other guests. We book the room for 3 people with an en-suite, this room was very spacious.    When    There is no mini bar in the room from my experience. The is a community fridge/ freezer (you are required to label your food/ drink), sink, plates and cutlery in the kitchen.    There is no safe anywhere. BUT there is plenty of CCTV in the building for the security of you and your belongings. This was useful for me as it remained me my belongings I left in the room are safe.    There is AIR-Condition in the community sleeping rooms running from 8:00- 10:00 ever day. This is not applied in private rooms. I have great hearing, I could not hear any A/C units from our room or anywhere in the building (even though it was below the window, of our room, rooms may differ)    The location is a bit hidden (hint the name of the hostel 😅). But the community around the area pointed me in the right direction.    I really enjoyed staying here and I will definitely be back.    See you again Hide. Robert Masek wrote a review Jul 2019\n",
      "40 Nice hostel (+)    * View: so peaceful. It has a small garden so u can sit there with ur friends and enjoy breakfast or coffee.    * Room: It has not only dorms for group 6 or 8 people but also rooms for couple or triple too. For me, bed is comfortable 👌. They clean ur room every morning.    * Facilities: all new. They have small kitchen with refrigerator, microwave and washing machine. They prepare some sandwiches, milks, tea, coffee and snacks, jams for breakfast or supper. It' s all free :+1:    * Staff: extremely friendly and helpful. They can speak English quite well. If I need some information, they will search and give me some recommendations to choose.    * Place: near 7 eleven, Big C, Tesco, FamilyMart,street food and market. It takes only 10 mins to walk from hostel to BTS.    (-)    No elevator. U have to walk from 1st floor to 5th floor :joy::joy::joy: Foxane Nguyen wrote a review Jul 2019\n",
      "50 A bit hidden but great hostel! The hostel is very clean. Walking distance from the BTS about 10 mins., which is nice for the traveller. The hostel is a bit hidden in the residential area but it makes nice and quiet during the night time. Overall, I'd highly recommended it! Jenette wrote a review Feb 2019\n",
      "50 Their Video in Youtube is very helpful Love iT! I found their video instructions on how to go to hostel by public van number 552 from Suvarnaphum airport  This is very helpful and Cheap price around 40 Bath per seat so convenientThey will drop you at hostel And for this hostel The room is clean, spacious and quiet. Simple breakfast is provided, the owner is very kind and helpful. Sarunya J wrote a review Jan 2019\n",
      "50 Very nice, clean hostel. Very friendly and helpful staffs I stayed in this hostel for 4 days. Really love this hostel. Quite, clean, friendly and green! Very nice. Only 5-min walking to On Nut BTS, theres mall, supermarket, and clothing market as well. The vendor food at the clothing market is very nice Thao Le wrote a review Dec 2018\n",
      "50 Homey Atmosphere This hostel will let you feel like you are at your own crib! It was raining when we arrived at the hostel. We were welcomed by 2 or 3 ladies with umbrellas and helped us with our luggage. Upon entering the hostel, they have a policy to remove your footwear before entering and we saw everyone inside barefoot (what a cooperation!) We were served a very colorful welcome drink. The ladies are very helpful and you can barely see in their faces that they wanted to engage on a conversation with you, but the language barrier is big hindrance. We were just on the first floor, the location of the room is not up to my preference as it is near the staircase, but it's okay as we are leaving in just couple of hours for a flight. For our midnight snack, we had our food take away and we decided to eat it at their dining table. This is the feeling I liked most, sitting with my partner in a long dining table, we're having our midnight snack and a small talk together. Aside from that, they have a small room with washing machine on it, iron and ironing board, kitchenette, it is good for long staying guests. The most important is that you could leave your luggage for 15 days free of charge while you are about to visit another island in their country! Their location however is not that easy to find, but it's also nice on the other hand as it is away from all the noise you hear during your day trips! Definitely recommendable! triciapratesi wrote a review Aug 2018\n",
      "50 Cheap and good We got the standard double room with shower. The room was spacious and clean. The hostel was clean and the staff were very nice and greeted us with a very warm greeting. The staff was very helpful in letting us know the best way to the nearest BTS (On Nut BTS). According to Google maps, it would require a 10 minutes walk from On Nut BTS to the hostel. With the heat in Bangkok, it was no joke. However, outside of Tesco, there are the motorcycle taxis which can bring you to the hostel for only 10 bhat! Also, when walking out of the hostel there are also motorcycle taxis which can bring you to the BTS station for also 10 bhat. As the hostel is located in a small alley, it might get a little dark at night but it gets very peaceful at night. Totally loved it. They provided free breakfast in the morning with cereal, bread, etc. There are also washing machines and dryers to do your laundry for only 30 bhat. However, the water pressure in the bathroom is a little low. Above all else, a great stay! Will definitely come back again. OoiSY wrote a review Jun 2018\n"
     ]
    },
    {
     "name": "stdout",
     "output_type": "stream",
     "text": [
      "40 Comfy beds With great king-size beds and an ensuite it did not feel like a city hostel but it was what we needed after a long flight! Perfect for that jetlag! If you're planning on looking around it's a bit out of the way however there is a train right around the corner with a massive Tesco! :) Jack T wrote a review Jun 2018\n",
      "50 It was great We have 6 people and stayed at Hide Bangkok Hostel with private room 6 beds as everyone know when we travel to anywhere we worry about hotel where is cheap and clean and me too. I was lucky i have found this hostel ( hostel but not hostel)it's very clean,quiet and very cheap 3 nights for 6 people cost 4.500Bath receptionist is nice and friendly .My cousin he fall in love with the bed on top :D We were very happy and had a great trip in BKK and we love the food around nearly hostel very good. Thanks for that i will recommend for friends who wants to travel to BKK for this hostel. ( From Vietnam ) Julia15-05-2018 wrote a review May 2018\n",
      "10\n",
      "10\n",
      "50 Great hostel Very clean, comfortable. Didn't feel like a hostel at all as had own private room! Best city hostel I have ever stayed in. The owners were very polite and the hostel had a very calming environment. Would stay again. Hannah S wrote a review Apr 2018\n",
      "50 Very good hostel Friendly people, cheap and easy to find. would definitely recommend this hostel. when we were there it was the Thai new year. they have pointed out to us and also that they wet each other. very nice experience, especially because you're right there in the middle of a residential area. Khalid Z wrote a review Apr 2018\n",
      "40 Nice hostel in quiet neighbourhood We spent 4 nights here prior to heading south, it is close to the BTS for easy, cheap transport. We booked a double room with deck & private bath which was a good size with a/c & mini fridge. The room was fairly clean, for some reason in Thailand, walls are neglected, but floors are spotless. Food was good at the hotel (we only ate one lunch as many restaurants in area$) staff were friendly & helpful. Luv2trvlabout wrote a review Mar 2018\n",
      "30 Nice Awesome little hotel/hostel doesn't feel like a hostel as you can get double rooms with a double bed & own shower, staff are very nice & friendly,  Difficult to find if your not a local.. I. E if you order food & they can't find it you can ask the staff & they direct the driver to hotel but if you got Rooms are nice & cosy, Karlos O wrote a review Oct 2017\n",
      "50 A good place to stay Stayed here for 5 days and 4 nights. Affordable rates and friendly staff. It also comes with free breakfast (toasted bread, milk, unli coffee) and free wifi! Will definitely recommend this place if you're on a tight budget. Peterson Co wrote a review Aug 2017\n",
      "50 Nice and clean This hostel is in a quiet and small alley , and it's about 10 Mons walk from BTS On Nut station. There's local stores and some Cafe, restaurants and 7-11 nearby.    The hostel is really clean and modern. We stayed in a private room, which is spacious and has a lil balcony. The bathroom is pretty new and clean.    The staff is super friendly. Though they don't speak fluent English, they still try their best to help and chat with us.    They provide free coffee and tea 24hrs, also free breakfast, which includes toast, cereal , bananas and milk. If you wanna do laundry they have washing machine and dryer at 1st floor. You will have to pay 30 baht per use.    Overall, we had a really comfortable stay , and I would recommend Hide Bangkok to whoever has tight budget and doesn't mind to stay a bit away from the city center. Miranda C wrote a review Jul 2017\n",
      "50 Wonderful Hostel My fiancée and I stayed at Hide for 5 nights. We had a private room and bathroom that we booked through Agoda. Check in was simple and only a 100 baht key deposit was required. The hostel was spotless, I was very impressed with how clean they kept it. Our room was a good size and the bathroom was also very nice with a shower, toilet, and sink. They provide complimentary breakfast in the mornings (which is cereal, some fruit, and some coffee/tea) and also will provide clothes hangers or a hair dryer if you need one. There is a Tesco, some bars, a 7 Eleven, cafes, and street food near the hostel. The neighborhood is quiet and much nicer than Khao San Rd. Although the Hostel is not very near the main attractions in Bangkok it is very accessible to get anywhere using public transportation. There is a BTS station right by the Tesco (buy pass instead of individual tickets) and you can access the MRT or water taxis to get anywhere by using the BTS. The only downside is it can be a little hard to find when you arrive but on their Facebook page they provide a map and directions in Thai to give to your taxi driver from the airport (alternatively you could take the rail link to the BTS and find it using the map that way).    Hide is wonderful and we will definitely stay here again if we are in Bangkok. Jake S wrote a review Jun 2017\n",
      "40 First days in Bangkok The first what the touch us was friendly staff. This place is made special because of the staff which try to help you in every way.  The breakfast was modest with coffe, milk, tea, bread, butter or homemade jam, which enough.  Location was little far from the centrum of the Bangkok.  My opinion is that the accomodation( bequem room with cool clima) and the service is very friendly with the price. The room was nicely clean.  Thank you BorisJr wrote a review May 2017\n",
      "50 Nice hostel for backpackers This hostel is tucked away down a couple of streets off Sukhumvit Road, near On Nut BTS. Nearby is some great streetfood and a massive Tesco Lotus.    The room itself had great AC, was modern clean & cheap. Towels were not provided, but could be rented for 20b plus deposit. This hostel would suit those looking to chill out or do sightseeing in Bangkok, it is certainly not a place to party.    Friendly staff, a small breakfast and laundry facilities were nice little extras. I would stay here again drwols wrote a review May 2017\n",
      "50 A lovely place at a lovely location I would recommend this place highly to travellers in bkk. The staff were really good and polite and always willing to help me with my luggage storage and anything else.  They also helped me get a grab car when I needed t go out. They also offered free simple bkfs in the morning. Was very impressed with this hotel at its price. Was really happy staying there. And will recommend to everyone. It is also a 10 minutes walk from the BTS. I had no issues taking bts fro airport easily to this place. In a very convenient location. Tesco, food, massage places and bts all within walking distance. And if you choose not to waik, jus hire a scooter driver for 10Baht! Fureena wrote a review Mar 2017\n",
      "9\n",
      "9\n",
      "50 Nice new budget hotel in sukhumvit 50 This is well recommended for budget travellers.Just 10 minute walk from On Nut BTS station on sukumvit 50.Place.is literally hidden in an alley but upon reaching it you will be surprise.Friendly staff and very clean common areas.free light snacks are availabe for the guests and free wifi all over the place.Bunk beds starts at 350 baht.its well recommended for budget travellers. LEVY P wrote a review Jan 2017\n",
      "40 Overall it is good Very good breakfast provided. Managed by owner. Very clean place. Free use of computer for travel planning. Provision shops nearby. Laundry, dryer machines are good. Aircon, wifi, locker are in good condition. In local neighborhood. Cheap & good traditional massage near BTS station.  No shower cream, shampoo provided. Really loooong walk to the BTS train station. Some mosquito. jeffreychong wrote a review Dec 2016\n",
      "50 Excellent Very homey and comfortable. .. it's a great place to relax if you're tired of the hustles and bustles of the city. It is spacious and clean. It is a 10-minute walk from the train station. If you're looking for a place to rest and relax after a tiring day, this is the place to be.. Benilda S wrote a review Nov 2016\n",
      "40 Great! Base on the map, the hostel looks close from bts. However it's almost a 10 mins walk from On nut BTS and along the way, there are many Low cables or wires so be careful!    However, taking a GrabCar from Tesco to the hostel is only 50baht.  Tesco has amazing foodcourt!    The hostel also has free refillable water and even has a washer and dryer at a cost of 25baht.    We stayed in a private room and the room was spacious. What lack was probably a fridge to store some of our own stuff. But it'd do!    There is no lift just stairs. But there's automated lift for your heavy bags!    Staffs are polite and friendly.  Would stay here again! Geraldine T wrote a review Nov 2016\n"
     ]
    },
    {
     "name": "stdout",
     "output_type": "stream",
     "text": [
      "50 Nice hostel with lovely and enthusiastic staff The building is very new and have nice decorating. Everything is very clean. Free coffee, drinking water, biscuits, banana and milk for breakfast. Free wifi is very strong. The owner girl and her family, and the staff are very nice and they are very king and willing to help you anything although some of them can speak English well.  A bit far from Oh Nut station and hard to find at the first time, it takes only 10 bath for motobike from BTS to this hostel. Haipham wrote a review Nov 2016\n",
      "50 Best hostel in Bangkok! Everything about Hide is great. It's in a quiet neighborhood. The staff is super nice. The room was the best we had in Bangkok. It was a mistake not to spend all of our nights at the Hide. You have to stay here. Justin D wrote a review Nov 2016\n",
      "40 “Clean, comfortable hostel with extremely nice staff! ” Very Clean and new building. Comfy beds, I like that there was two showers and two toilets (cubicles) for both girls and boys. Staff were incredibly helpful, anything you need they will be happy to help! Free cereal for breakfast, as well as drinking water and snacks. Washer and dryer for use (30baht each).    Although there were many things to do nearby, and some nice bars/markets only 1 or 2 bts stops away, it was very far away from attractions such as the grande palace and koh san road (mainly due to no train service near them, only a boat down the river). This was the only downside to this hostel. Jdoms wrote a review Oct 2016\n",
      "50 VERY COMFY AND CLEAN!! It was really wonderful. Outside of the city centre but close enough to walk to the skytrain for a quick trip into town. Rooms were immaculate, very clean and up to date facilities. They also have their own laundry machine and drier so you can do your clothes. Each bed has its own light and curtains and is separated by barriers from the other beds in the room. I was very impressed! It wasn't a party hostel but who needs that when you can go party downtown then actually get to sleep when you want to. lgleed wrote a review Oct 2016\n",
      "50 Lovely hostel Stayed here for 3 nights whilst visiting Bangkok. Had a wonderful stay, very comfortable, staff were friendly and rooms were spotless. Great value for money, would definitely recommend to other travellers.  The nearest BTS station is On Nut which is 10 minutes walk from the hostel so great location too! Charlotte D wrote a review Sep 2016\n",
      "Finish tripadvisor.com/Hotel_Review-g293916-d10682876-Reviews-Hide_Bangkok_Hostel-Bangkok.html\n"
     ]
    }
   ],
   "source": [
    "for index, elem in enumerate(hotel_name_list):\n",
    "    print(index, elem)\n",
    "    review_trip(elem)\n",
    "    print(\"Finish\",elem)"
   ]
  },
  {
   "cell_type": "code",
   "execution_count": null,
   "id": "cb190a92",
   "metadata": {},
   "outputs": [],
   "source": []
  }
 ],
 "metadata": {
  "kernelspec": {
   "display_name": "Python 3 (ipykernel)",
   "language": "python",
   "name": "python3"
  },
  "language_info": {
   "codemirror_mode": {
    "name": "ipython",
    "version": 3
   },
   "file_extension": ".py",
   "mimetype": "text/x-python",
   "name": "python",
   "nbconvert_exporter": "python",
   "pygments_lexer": "ipython3",
   "version": "3.7.13"
  }
 },
 "nbformat": 4,
 "nbformat_minor": 5
}
