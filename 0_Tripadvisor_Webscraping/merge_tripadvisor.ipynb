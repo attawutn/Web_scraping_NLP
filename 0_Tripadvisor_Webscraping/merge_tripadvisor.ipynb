{
 "cells": [
  {
   "cell_type": "code",
   "execution_count": 1,
   "metadata": {},
   "outputs": [],
   "source": [
    "import os\n",
    "import glob\n",
    "import pandas as pd\n",
    "os.chdir(\"0_output_name/\")\n",
    "\n",
    "extension = 'csv'\n",
    "\n",
    "colnames=['0'] \n",
    "\n",
    "all_filenames = [i for i in glob.glob('*.{}'.format(extension))]\n",
    "\n",
    "#combine all files in the list\n",
    "combined_csv = pd.concat([pd.read_csv(f,names=colnames, header=None) for f in all_filenames])\n",
    "\n",
    "#export to csv\n",
    "combined_csv.to_csv(\"tripadvisor_Rayong_Res_review_combined.csv\", index=False, encoding='utf-8-sig')"
   ]
  },
  {
   "cell_type": "code",
   "execution_count": null,
   "metadata": {},
   "outputs": [],
   "source": []
  }
 ],
 "metadata": {
  "kernelspec": {
   "display_name": "Python 3.9.12 ('base')",
   "language": "python",
   "name": "python3"
  },
  "language_info": {
   "codemirror_mode": {
    "name": "ipython",
    "version": 3
   },
   "file_extension": ".py",
   "mimetype": "text/x-python",
   "name": "python",
   "nbconvert_exporter": "python",
   "pygments_lexer": "ipython3",
   "version": "3.9.12"
  },
  "vscode": {
   "interpreter": {
    "hash": "d9363941a9cdc3aa2d7ffc1156066cfb66bb7ce2e517290366e4d795ef4b8ad1"
   }
  }
 },
 "nbformat": 4,
 "nbformat_minor": 2
}
