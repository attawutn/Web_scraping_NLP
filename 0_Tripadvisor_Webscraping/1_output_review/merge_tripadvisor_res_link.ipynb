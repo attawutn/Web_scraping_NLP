{
 "cells": [
  {
   "cell_type": "code",
   "execution_count": 1,
   "metadata": {},
   "outputs": [],
   "source": [
    "import os\n",
    "import glob\n",
    "import pandas as pd\n",
    "os.chdir(\"1_output_review/\")\n",
    "\n",
    "extension = 'csv'\n",
    "\n",
    "colnames=['Date', 'Rating', 'Title', 'Review','Hotel_Name','Geolocation'] \n",
    "\n",
    "all_filenames = [i for i in glob.glob('*.{}'.format(extension))]\n",
    "\n",
    "#combine all files in the list\n",
    "combined_csv = pd.concat([pd.read_csv(f,names=colnames, header=None) for f in all_filenames])\n",
    "\n",
    "#export to csv\n",
    "combined_csv.to_csv(\"tripadvisor_hotel_review_combined.csv\", index=False, encoding='utf-8-sig')"
   ]
  },
  {
   "cell_type": "code",
   "execution_count": 5,
   "metadata": {},
   "outputs": [],
   "source": [
    "import os\n",
    "import glob\n",
    "import pandas as pd\n",
    "os.chdir(\"C:/Users/attawut/Documents/Web_scraping_NLP/0_Tripadvisor_Webscraping/0_output_name_res_ENG/\")\n",
    "\n",
    "extension = 'csv'\n",
    "\n",
    "colnames=['No', 'URL'] \n",
    "\n",
    "all_filenames = [i for i in glob.glob('*.{}'.format(extension))]\n",
    "\n",
    "#combine all files in the list\n",
    "combined_csv = pd.concat([pd.read_csv(f,names=colnames, header=None) for f in all_filenames])\n",
    "\n",
    "#export to csv\n",
    "combined_csv.to_csv(\"tripadvisor_res_ENG_link_combined.csv\", index=False, encoding='utf-8-sig')"
   ]
  },
  {
   "cell_type": "code",
   "execution_count": null,
   "metadata": {},
   "outputs": [],
   "source": []
  }
 ],
 "metadata": {
  "kernelspec": {
   "display_name": "Python 3.7.13 ('base')",
   "language": "python",
   "name": "python3"
  },
  "language_info": {
   "codemirror_mode": {
    "name": "ipython",
    "version": 3
   },
   "file_extension": ".py",
   "mimetype": "text/x-python",
   "name": "python",
   "nbconvert_exporter": "python",
   "pygments_lexer": "ipython3",
   "version": "3.7.13"
  },
  "vscode": {
   "interpreter": {
    "hash": "eb4f3c2745d5e24f01fa2041e6a45ad2b07924bca0b56c56c7d2e71a35823404"
   }
  }
 },
 "nbformat": 4,
 "nbformat_minor": 2
}
