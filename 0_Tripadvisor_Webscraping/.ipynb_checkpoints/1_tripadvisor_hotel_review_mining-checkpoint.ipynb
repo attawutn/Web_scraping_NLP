{
 "cells": [
  {
   "cell_type": "markdown",
   "id": "e4085be1",
   "metadata": {},
   "source": [
    "# Function"
   ]
  },
  {
   "cell_type": "code",
   "execution_count": 1,
   "id": "fdff11d0",
   "metadata": {},
   "outputs": [],
   "source": [
    "def review_trip(name):\n",
    "    import sys\n",
    "    import csv\n",
    "    from selenium import webdriver\n",
    "    from webdriver_manager.chrome import ChromeDriverManager\n",
    "    import time\n",
    "    from selenium.common.exceptions import NoSuchElementException\n",
    "\n",
    "    # number of scraped pages\n",
    "    num_page = 100000\n",
    "\n",
    "    # tripadvisor website of hotel or things to do (attraction/monument) \n",
    "    url = \"https://\" + str(name)\n",
    "\n",
    "    # if you pass the inputs in the command line\n",
    "    if (len(sys.argv) == 4):\n",
    "        path_to_file = sys.argv[1]\n",
    "        num_page = int(sys.argv[2])\n",
    "        url = sys.argv[3]\n",
    "    \n",
    "    # import the webdriver\n",
    "    driver = webdriver.Chrome(executable_path=ChromeDriverManager().install())\n",
    "    driver.get(url)\n",
    "\n",
    "    try:\n",
    "        driver.find_element_by_class_name('evidon-banner-acceptbutton').click()\n",
    "    except:\n",
    "        pass \n",
    "\n",
    "    geolocation = \"\"\n",
    "\n",
    "    title_text = str(driver.title)\n",
    "    title_text_strip = title_text.replace(\" - Prices & Reviews (Thailand) - Tripadvisor\",\"\")\n",
    "    print(title_text_strip)\n",
    "\n",
    "    time.sleep(5)\n",
    "    try:\n",
    "        images = driver.find_elements_by_xpath(\".//img[contains(@class,'ChASv')]\")\n",
    "        for image in images:\n",
    "            geolocation = image.get_attribute('src')\n",
    "    except:\n",
    "        pass   \n",
    "\n",
    "    print(geolocation)\n",
    "    \n",
    "    path_to_file =  \"1_output_review/mining_\" + title_text_strip + \".csv\"\n",
    "    # open the file to save the review\n",
    "    csvFile = open(path_to_file, 'a', encoding=\"utf-8-sig\")\n",
    "    csvWriter = csv.writer(csvFile)\n",
    "\n",
    "    \n",
    "    for i in range(0, num_page):\n",
    "\n",
    "        # expand the review \n",
    "        time.sleep(5)\n",
    "        try:\n",
    "            driver.find_element_by_xpath(\".//div[contains(@data-test-target, 'expand-review')]\").click()\n",
    "            time.sleep(5)\n",
    "\n",
    "            container = driver.find_elements_by_xpath(\"//div[@data-reviewid]\")\n",
    "            print(len(container))\n",
    "            dates = driver.find_elements_by_xpath(\".//div[@class='bcaHz']\")\n",
    "            print(len(dates))\n",
    "\n",
    "            for j in range(len(container)):\n",
    "                time.sleep(5)\n",
    "                rating = container[j].find_element_by_xpath(\".//span[contains(@class, 'ui_bubble_rating bubble_')]\").get_attribute(\"class\").split(\"_\")[3]\n",
    "                title = container[j].find_element_by_xpath(\".//div[contains(@data-test-target, 'review-title')]\").text\n",
    "                review = container[j].find_element_by_xpath(\".//q[@class='XllAv H4 _a']\").text.replace(\"\\n\", \"  \")\n",
    "                date = dates[j].text\n",
    "                print(rating,title,review,date)\n",
    "\n",
    "                csvWriter.writerow([date, rating, title, review, title_text_strip, geolocation]) \n",
    "\n",
    "            try:\n",
    "                driver.find_element_by_xpath('.//a[@class=\"ui_button nav next primary \"]').click()\n",
    "            except:\n",
    "                break\n",
    "            time.sleep(5)\n",
    "        except:\n",
    "            break\n",
    "    \n",
    "    for i in range(0, num_page):\n",
    "\n",
    "        # expand the review \n",
    "        time.sleep(5)\n",
    "        try:\n",
    "            driver.find_element_by_xpath(\".//div[contains(@data-test-target, 'expand-review')]\").click()\n",
    "            time.sleep(5)\n",
    "\n",
    "            container = driver.find_elements_by_xpath(\"//div[@data-reviewid]\")\n",
    "            print(len(container))\n",
    "            dates = driver.find_elements_by_xpath(\".//div[@class='bcaHz']\")\n",
    "            print(len(dates))\n",
    "\n",
    "            for j in range(len(container)):\n",
    "                time.sleep(5)\n",
    "                rating = container[j].find_element_by_xpath(\".//span[contains(@class, 'ui_bubble_rating bubble_')]\").get_attribute(\"class\").split(\"_\")[3]\n",
    "                title = container[j].find_element_by_xpath(\".//div[contains(@data-test-target, 'review-title')]\").text\n",
    "                review = container[j].find_element_by_xpath(\".//q[@class='XllAv H4 _a']\").text.replace(\"\\n\", \"  \")\n",
    "                date = dates[j].text\n",
    "                print(rating,title,review,date)\n",
    "\n",
    "                csvWriter.writerow([date, rating, title, review, title_text_strip, geolocation]) \n",
    "\n",
    "            try:\n",
    "                driver.find_element_by_xpath('.//a[@class=\"ui_button nav next primary \"]').click()\n",
    "            except:\n",
    "                break\n",
    "            time.sleep(5)\n",
    "        except:\n",
    "            break\n",
    "        \n",
    "    driver.quit()"
   ]
  },
  {
   "cell_type": "code",
   "execution_count": null,
   "id": "661f4c20",
   "metadata": {},
   "outputs": [],
   "source": [
    "#review_trip(\"tripadvisor.com/Hotel_Review-g293916-d11888125-Reviews-Hoppers_Place_Donmuang_Hostel-Bangkok.html\")\n",
    "review_trip(\"tripadvisor.com/Hotel_Review-g293916-d10682876-Reviews-Hide_Bangkok_Hostel-Bangkok.html\")"
   ]
  },
  {
   "cell_type": "markdown",
   "id": "22ac779e",
   "metadata": {},
   "source": [
    "# Set Variable"
   ]
  },
  {
   "cell_type": "code",
   "execution_count": 2,
   "id": "b6d8794a",
   "metadata": {},
   "outputs": [
    {
     "data": {
      "text/plain": [
       "2"
      ]
     },
     "execution_count": 2,
     "metadata": {},
     "output_type": "execute_result"
    }
   ],
   "source": [
    "hotel_name_list = [\n",
    "\"tripadvisor.com/Hotel_Review-g293916-d11888125-Reviews-Hoppers_Place_Donmuang_Hostel-Bangkok.html\",\n",
    "\"tripadvisor.com/Hotel_Review-g293916-d10682876-Reviews-Hide_Bangkok_Hostel-Bangkok.html\",\n",
    "]\n",
    "\n",
    "len(hotel_name_list)"
   ]
  },
  {
   "cell_type": "markdown",
   "id": "c7a5f683",
   "metadata": {},
   "source": [
    "# Run Function"
   ]
  },
  {
   "cell_type": "code",
   "execution_count": null,
   "id": "0d0d203d",
   "metadata": {},
   "outputs": [
    {
     "name": "stdout",
     "output_type": "stream",
     "text": [
      "0 tripadvisor.com/Hotel_Review-g293916-d11888125-Reviews-Hoppers_Place_Donmuang_Hostel-Bangkok.html\n"
     ]
    },
    {
     "name": "stderr",
     "output_type": "stream",
     "text": [
      "\n",
      "\n",
      "====== WebDriver manager ======\n",
      "Current google-chrome version is 100.0.4896\n",
      "Get LATEST driver version for 100.0.4896\n",
      "Get LATEST driver version for 100.0.4896\n",
      "Trying to download new driver from https://chromedriver.storage.googleapis.com/100.0.4896.60/chromedriver_win32.zip\n",
      "Driver has been saved in cache [C:\\Users\\attawut\\.wdm\\drivers\\chromedriver\\win32\\100.0.4896.60]\n"
     ]
    },
    {
     "name": "stdout",
     "output_type": "stream",
     "text": [
      "HOPPERS PLACE DONMUANG HOSTEL $16 ($̶2̶2̶) - Prices & Lodge Reviews - Bangkok, Thailand - Tripadvisor\n",
      "https://maps.google.com/maps/api/staticmap?&channel=ta.desktop.hotel_review&zoom=13&size=846x241&scale=1&client=gme-tripadvisorinc&format=jpg&sensor=false&language=en_US&center=13.915066,100.585876&maptype=roadmap&&markers=icon:http%3A%2F%2Fc1.tacdn.com%2F%2Fimg2%2Fmaps%2Ficons%2Fresponsive_map_pins_v2%2FH_Anchor_pin.png|13.915066,100.585876|13.915066,100.585876&&markers=icon:http%3A%2F%2Fc1.tacdn.com%2F%2Fimg2%2Fmaps%2Ficons%2Fcomponent_map_pins_v1%2FR_Pin_xs.png|13.908302,100.578300|13.921525,100.585388|13.920180,100.593430|13.918608,100.578445|13.913690,100.588791|13.913260,100.582520|13.914580,100.587173|13.913280,100.589951|13.919930,100.584991&&markers=icon:http%3A%2F%2Fc1.tacdn.com%2F%2Fimg2%2Fmaps%2Ficons%2Fcomponent_map_pins_v1%2FH_Pin_xs.png|13.912915,100.593147|13.916922,100.583923|13.911144,100.591629|13.912020,100.596069|13.911118,100.589676|13.912020,100.596069|13.914085,100.587784|13.911259,100.592789&signature=pp3J_dW9ofmRZD_b5a-pbOvWDkA=\n",
      "10\n",
      "10\n",
      "50 Great 1 night stay We stayed here for a 1 night as an airport stay over and it was a great nights stay. The room was big, shower nice and warm, the WiFi and aircon was good. There is also coffee/biscuits available all day and the airport shuttle is included. I slept so well and the lady on reception was really nice. Lucy P wrote a review Dec 2019\n",
      "50 Great for a one night airport stopover We bboked here as a one night stopover, for Bangkok airport, which is a 15 minute ride away, traffic was terrible. We had origionally booked a room, but it was up on a higher floor, so when checking in, the receptionist got me to cancel that one, and we got booked into one of the new rooms, behind the main hotel, on the ground floor, as we had 2 massive suitcases. The room only cost about £20 for the night, and a free taxi ride back to airport next day. Very clean room, looked very new, soft bed and pillows, great shower, toiletries, good WIFI, TV, hairdrier..  As its a hostel, there was a microwave, toast, in the hallway, so as we arrived late, I went to the local 7Eleven store, 5 mins away, bought toasties, crisps and beers for supper rather than going out.  Ok for a one night stay alisdair t wrote a review Sep 2019\n",
      "50 The best Transfer Hotel in DONMUANG It’s conveniently close by (6mins drive) to the airport. They even give you a free complimentary ride to the airport. Also give you free luggage storage for a couple days. Clean, and central. THE BEST Kola S wrote a review Apr 2019\n",
      "40 Very Helpful and Polite Staff with Comfortable Rooms We stayed here for two nights while visiting Bangkok. The hostel itself is small but the rooms are comfortable to fit three people and all our luggage. They offer breakfast every morning for an additional charge but we enjoyed the chicken and pork soup as well as the fried rice we ordered for our breakfast. The front desk staff were extremely helpful and polite. They helped teach us some Thai phrases and helped us get to the Chatuchak Weekend Market. They also helped orchestrate phone calls to get us to our next destination. I would recommend staying here if you have the chance! Liddy H wrote a review Apr 2019\n",
      "50 Solid choice near DMK Reasonably priced clean and mostly quiet accommodation. Our second time staying here. staff helped getting our heavy suitcase upstairs as there is no lift. Scheduled airport drop off is free of charge and takes the stress off getting to airport on time. Our go to place if landing at DMK from this point on. Note that there is cheap A/C bus to downtown or Suvarnabhumi Intl airport. Premium room is quieter than standard room but overall both were quite satisfactory especially for one or two nights. Accela1 wrote a review Mar 2019\n",
      "50 Stay here If you are looking for a transit hotel close to Don Mueang look no further. This hostel is the best. A small hidden gem. Close to 7/11 and Thai food stalls, restaurants, market and coffee around the corner. Good wifi. Airport is 15 minute drive. The staff is amazing, the breakfast good. We stayed for 3 nights in a private room. Theres only thing but for us that is no problem: there is No elevator. Yardena wrote a review Dec 2018\n",
      "40 Great place, but really bad smell in the bathroom Super friendly staff. Very clean and well appointed room. We stayed in deluxe room with it's own bathroom and it was very clean and modern. But we hated the bad smell coming from the bathroom, which was impossible to get rid off. The breakfast and shuttle service were very well organized and the food was very good. We ate dinner directly across the street and there is a convenience store very close by. Michaela V wrote a review Sep 2018\n",
      "50 Perfect. Clean! I would stay here again and recommend it for sure.    Awesome for quick flight layover!! Chose this place because the reviews were good and it’s location was close.  Our private queen bed was great. Quiet, 2nd floor, clean and stocked with 2 water bottles. Thank you. The bathroom was clean and new and it had a shower curtain, hurray!!!!! Didn’t have the breakfast the next morning but there’s a 7-11 directly across the street. Also there’s a local Thai restaurant across the street which is amazing!! Totally good food.    The taxi to the hostel was 110baht. The free shuttle ride to the airport the next day was awesome. They ask you at check in what time your flight is and what time you want to leave. Our shuttle driver was on his phone the whole time, but it was quick and it’s fine.    I would 100% stay here again and recommend this hostel to anyone. It’s better than a hotel honestly. Taylor🏝 wrote a review May 2018\n",
      "50 One night near Donmuang airport We arrived by late flight at night and have to kill some time to catch the another flight tomorrow. Its 10 mins taxi ride from the airport cost 100 baht and the hostel charge 650 baht for double room with attached bathroom. It is the hostel and it has per person rate also. The room is clean and the building is well organised. It also offer free drop off service to airport and that is a plus. 7/11 store is 3 mins walk in the street. Overall, it is the great place to sleep near Donmuang airport. Hein wrote a review Apr 2018\n",
      "50 would stay again it was a decent hostel. The room was clean and new. Air-con was good, water was hot, bed was fine. The location is good and transfer service was a plus. there were multiple restaurants around and 7-11 was in the distance. 24 hours surveillance. I would go there again. salasa f wrote a review Apr 2018\n"
     ]
    }
   ],
   "source": [
    "for index, elem in enumerate(hotel_name_list):\n",
    "    print(index, elem)\n",
    "    review_trip(elem)\n",
    "    print(\"Finish\",elem)"
   ]
  },
  {
   "cell_type": "code",
   "execution_count": null,
   "id": "cb190a92",
   "metadata": {},
   "outputs": [],
   "source": []
  }
 ],
 "metadata": {
  "kernelspec": {
   "display_name": "Python 3 (ipykernel)",
   "language": "python",
   "name": "python3"
  },
  "language_info": {
   "codemirror_mode": {
    "name": "ipython",
    "version": 3
   },
   "file_extension": ".py",
   "mimetype": "text/x-python",
   "name": "python",
   "nbconvert_exporter": "python",
   "pygments_lexer": "ipython3",
   "version": "3.7.13"
  }
 },
 "nbformat": 4,
 "nbformat_minor": 5
}
