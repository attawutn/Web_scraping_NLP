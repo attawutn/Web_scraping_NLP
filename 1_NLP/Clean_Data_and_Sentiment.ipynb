{
 "cells": [
  {
   "cell_type": "markdown",
   "id": "7a523d80",
   "metadata": {},
   "source": [
    "# Necessary Function"
   ]
  },
  {
   "cell_type": "code",
   "execution_count": null,
   "id": "7eda824b",
   "metadata": {},
   "outputs": [],
   "source": [
    "import re\n",
    "import string\n",
    "\n",
    "def clean_msg(msg):\n",
    "    \n",
    "    \n",
    "    # ลบ text ที่อยู่ในวงเล็บ <> ทั้งหมด\n",
    "    msg = re.sub(r'<.*?>','', msg)\n",
    "    \n",
    "    # ลบ hashtag\n",
    "    msg = re.sub(r'#','',msg)\n",
    "    \n",
    "    # ลบ เครื่องหมายคำพูด (punctuation)\n",
    "    for c in string.punctuation:\n",
    "        msg = re.sub(r'\\{}'.format(c),'',msg)\n",
    "    \n",
    "    # ลบ separator เช่น \\n \\t\n",
    "    msg = ' '.join(msg.split())\n",
    "    \n",
    "    return msg"
   ]
  },
  {
   "cell_type": "code",
   "execution_count": null,
   "id": "f59883f5",
   "metadata": {},
   "outputs": [],
   "source": [
    "def split_word(text):        \n",
    "    \n",
    "    tokens = word_tokenize(text,engine=\"newmm\")\n",
    "    \n",
    "    # Remove stop words ภาษาไทย และภาษาอังกฤษ\n",
    "    tokens = [i for i in tokens if not i in th_stop and not i in en_stop]\n",
    "    \n",
    "    # หารากศัพท์ภาษาไทย และภาษาอังกฤษ\n",
    "    # English\n",
    "    tokens = [p_stemmer.stem(i) for i in tokens]\n",
    "    \n",
    "    # Thai\n",
    "    tokens_temp=[]\n",
    "    for i in tokens:\n",
    "        w_syn = wordnet.synsets(i)\n",
    "        if (len(w_syn)>0) and (len(w_syn[0].lemma_names('tha'))>0):\n",
    "            tokens_temp.append(w_syn[0].lemma_names('tha')[0])\n",
    "        else:\n",
    "            tokens_temp.append(i)\n",
    "    \n",
    "    tokens = tokens_temp\n",
    "    \n",
    "    # ลบตัวเลข\n",
    "    tokens = [i for i in tokens if not i.isnumeric()]\n",
    "    \n",
    "    # ลบช่องว่าง\n",
    "    tokens = [i for i in tokens if not ' ' in i]\n",
    "\n",
    "    return tokens"
   ]
  },
  {
   "cell_type": "code",
   "execution_count": null,
   "id": "6892cb23",
   "metadata": {},
   "outputs": [],
   "source": [
    "def listToString(s): \n",
    "    \n",
    "    # initialize an empty string\n",
    "    str1 = \"\" \n",
    "    \n",
    "    # traverse in the string  \n",
    "    for ele in s: \n",
    "        str1 += ele  \n",
    "    \n",
    "    # return string  \n",
    "    return str1 "
   ]
  },
  {
   "cell_type": "code",
   "execution_count": null,
   "id": "afa74cf4",
   "metadata": {},
   "outputs": [],
   "source": [
    "import emoji\n",
    "import re\n",
    "\n",
    "def strip_emoji(text):\n",
    "\n",
    "    print(emoji.emoji_count(text))\n",
    "\n",
    "    new_text = re.sub(emoji.get_emoji_regexp(), r\"\", text)\n",
    "\n",
    "    return new_text"
   ]
  },
  {
   "cell_type": "markdown",
   "id": "f9c62134",
   "metadata": {},
   "source": [
    "# Run This Function\n"
   ]
  },
  {
   "cell_type": "code",
   "execution_count": null,
   "id": "140aedca",
   "metadata": {},
   "outputs": [],
   "source": [
    "import pandas as pd\n",
    "from pathlib import Path\n",
    "from thai_sentiment import get_sentiment\n",
    "import pythainlp\n",
    "from pythainlp import word_tokenize\n",
    "from pythainlp.corpus import thai_stopwords\n",
    "from pythainlp.corpus import wordnet\n",
    "from nltk.stem.porter import PorterStemmer\n",
    "from nltk.corpus import words\n",
    "from stop_words import get_stop_words\n",
    "import nltk\n",
    "nltk.download('stopwords')\n",
    "\n",
    "th_stop = tuple(thai_stopwords())\n",
    "en_stop = tuple(get_stop_words('en'))\n",
    "p_stemmer = PorterStemmer()\n",
    "df = pd.read_csv(\"Input/Hotel/tripadvisor_hotel_review_combined_Clean_04052022.csv\", header=None)\n",
    "df.columns = df.iloc[0] \n",
    "df = df[1:]\n",
    "Hotel_Name = df[\"Hotel_Name\"]\n",
    "Date = df[\"Date\"]\n",
    "Rating = df[\"Rating\"]\n",
    "X = df[\"X\"]\n",
    "Y = df[\"Y\"]"
   ]
  },
  {
   "cell_type": "code",
   "execution_count": null,
   "id": "999c3341",
   "metadata": {},
   "outputs": [],
   "source": [
    "df1_1 = df[0:10]\n",
    "df1 = df1_1['Review']\n",
    "\n"
   ]
  },
  {
   "cell_type": "code",
   "execution_count": null,
   "id": "f6ebf944",
   "metadata": {},
   "outputs": [],
   "source": [
    "df1"
   ]
  },
  {
   "cell_type": "code",
   "execution_count": null,
   "id": "6f660a23",
   "metadata": {},
   "outputs": [],
   "source": [
    "df2 = strip_emoji(df1)"
   ]
  },
  {
   "cell_type": "code",
   "execution_count": null,
   "id": "08e72aa8",
   "metadata": {},
   "outputs": [],
   "source": []
  },
  {
   "cell_type": "code",
   "execution_count": null,
   "id": "9b223c28",
   "metadata": {},
   "outputs": [],
   "source": []
  },
  {
   "cell_type": "code",
   "execution_count": null,
   "id": "ef2f758b",
   "metadata": {},
   "outputs": [],
   "source": [
    "df1 = df1_1['Review'].str.cat(sep='')\n",
    "df2 = strip_emoji(df1)\n",
    "df3 = clean_msg(df2)\n",
    "df4 = split_word(df3)\n",
    "df5 = listToString(df4)"
   ]
  },
  {
   "cell_type": "code",
   "execution_count": null,
   "id": "97ff7b38",
   "metadata": {},
   "outputs": [],
   "source": [
    "df1 = df['Review'].str.cat(sep='')\n",
    "df2 = strip_emoji(df1)\n",
    "df3 = clean_msg(df2)\n",
    "df4 = split_word(df3)\n",
    "df5 = listToString(df4)"
   ]
  },
  {
   "cell_type": "code",
   "execution_count": null,
   "id": "8e3cacfb",
   "metadata": {},
   "outputs": [],
   "source": [
    "result = get_sentiment(df5)"
   ]
  },
  {
   "cell_type": "code",
   "execution_count": null,
   "id": "bb9f8f2c",
   "metadata": {},
   "outputs": [],
   "source": [
    "data = [names,Date,Rating,X,Y, result]"
   ]
  },
  {
   "cell_type": "code",
   "execution_count": null,
   "id": "81fce808",
   "metadata": {},
   "outputs": [],
   "source": [
    "labels = ['Hotel_Name','Date','Rating','X','Y','result'] "
   ]
  },
  {
   "cell_type": "code",
   "execution_count": null,
   "id": "26f3f823",
   "metadata": {},
   "outputs": [],
   "source": [
    "data_result = pd.DataFrame.from_records(data, columns=labels)\n"
   ]
  },
  {
   "cell_type": "code",
   "execution_count": null,
   "id": "06a015f6",
   "metadata": {},
   "outputs": [],
   "source": [
    "data_result.to_csv('tripadvisor_Hotel_sentiment_16052022.csv',encoding='utf-8-sig')"
   ]
  }
 ],
 "metadata": {
  "interpreter": {
   "hash": "3b88cc6322805571c876938e741596cf0e42e2f0b1e32faf5c60249292e0d164"
  },
  "kernelspec": {
   "display_name": "Python 3.8.13 ('base')",
   "language": "python",
   "name": "python3"
  },
  "language_info": {
   "codemirror_mode": {
    "name": "ipython",
    "version": 3
   },
   "file_extension": ".py",
   "mimetype": "text/x-python",
   "name": "python",
   "nbconvert_exporter": "python",
   "pygments_lexer": "ipython3",
   "version": "3.8.13"
  }
 },
 "nbformat": 4,
 "nbformat_minor": 5
}
